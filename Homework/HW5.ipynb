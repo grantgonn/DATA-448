{
 "cells": [
  {
   "cell_type": "code",
   "execution_count": 1,
   "id": "c9311394-b238-4543-918d-c0cf016952b0",
   "metadata": {
    "tags": []
   },
   "outputs": [
    {
     "data": {
      "text/html": [
       "<div>\n",
       "<style scoped>\n",
       "    .dataframe tbody tr th:only-of-type {\n",
       "        vertical-align: middle;\n",
       "    }\n",
       "\n",
       "    .dataframe tbody tr th {\n",
       "        vertical-align: top;\n",
       "    }\n",
       "\n",
       "    .dataframe thead th {\n",
       "        text-align: right;\n",
       "    }\n",
       "</style>\n",
       "<table border=\"1\" class=\"dataframe\">\n",
       "  <thead>\n",
       "    <tr style=\"text-align: right;\">\n",
       "      <th></th>\n",
       "      <th>trustLevel</th>\n",
       "      <th>totalScanTimeInSeconds</th>\n",
       "      <th>grandTotal</th>\n",
       "      <th>lineItemVoids</th>\n",
       "      <th>scansWithoutRegistration</th>\n",
       "      <th>quantityModifications</th>\n",
       "      <th>scannedLineItemsPerSecond</th>\n",
       "      <th>valuePerSecond</th>\n",
       "      <th>lineItemVoidsPerPosition</th>\n",
       "      <th>fraud</th>\n",
       "    </tr>\n",
       "  </thead>\n",
       "  <tbody>\n",
       "    <tr>\n",
       "      <th>0</th>\n",
       "      <td>5</td>\n",
       "      <td>1054</td>\n",
       "      <td>54.70</td>\n",
       "      <td>7</td>\n",
       "      <td>0</td>\n",
       "      <td>3</td>\n",
       "      <td>0.027514</td>\n",
       "      <td>0.051898</td>\n",
       "      <td>0.241379</td>\n",
       "      <td>0</td>\n",
       "    </tr>\n",
       "    <tr>\n",
       "      <th>1</th>\n",
       "      <td>3</td>\n",
       "      <td>108</td>\n",
       "      <td>27.36</td>\n",
       "      <td>5</td>\n",
       "      <td>2</td>\n",
       "      <td>4</td>\n",
       "      <td>0.129630</td>\n",
       "      <td>0.253333</td>\n",
       "      <td>0.357143</td>\n",
       "      <td>0</td>\n",
       "    </tr>\n",
       "    <tr>\n",
       "      <th>2</th>\n",
       "      <td>3</td>\n",
       "      <td>1516</td>\n",
       "      <td>62.16</td>\n",
       "      <td>3</td>\n",
       "      <td>10</td>\n",
       "      <td>5</td>\n",
       "      <td>0.008575</td>\n",
       "      <td>0.041003</td>\n",
       "      <td>0.230769</td>\n",
       "      <td>0</td>\n",
       "    </tr>\n",
       "    <tr>\n",
       "      <th>3</th>\n",
       "      <td>6</td>\n",
       "      <td>1791</td>\n",
       "      <td>92.31</td>\n",
       "      <td>8</td>\n",
       "      <td>4</td>\n",
       "      <td>4</td>\n",
       "      <td>0.016192</td>\n",
       "      <td>0.051541</td>\n",
       "      <td>0.275862</td>\n",
       "      <td>0</td>\n",
       "    </tr>\n",
       "    <tr>\n",
       "      <th>4</th>\n",
       "      <td>5</td>\n",
       "      <td>430</td>\n",
       "      <td>81.53</td>\n",
       "      <td>3</td>\n",
       "      <td>7</td>\n",
       "      <td>2</td>\n",
       "      <td>0.062791</td>\n",
       "      <td>0.189605</td>\n",
       "      <td>0.111111</td>\n",
       "      <td>0</td>\n",
       "    </tr>\n",
       "  </tbody>\n",
       "</table>\n",
       "</div>"
      ],
      "text/plain": [
       "   trustLevel  totalScanTimeInSeconds  grandTotal  lineItemVoids  \\\n",
       "0           5                    1054       54.70              7   \n",
       "1           3                     108       27.36              5   \n",
       "2           3                    1516       62.16              3   \n",
       "3           6                    1791       92.31              8   \n",
       "4           5                     430       81.53              3   \n",
       "\n",
       "   scansWithoutRegistration  quantityModifications  scannedLineItemsPerSecond  \\\n",
       "0                         0                      3                   0.027514   \n",
       "1                         2                      4                   0.129630   \n",
       "2                        10                      5                   0.008575   \n",
       "3                         4                      4                   0.016192   \n",
       "4                         7                      2                   0.062791   \n",
       "\n",
       "   valuePerSecond  lineItemVoidsPerPosition  fraud  \n",
       "0        0.051898                  0.241379      0  \n",
       "1        0.253333                  0.357143      0  \n",
       "2        0.041003                  0.230769      0  \n",
       "3        0.051541                  0.275862      0  \n",
       "4        0.189605                  0.111111      0  "
      ]
     },
     "execution_count": 1,
     "metadata": {},
     "output_type": "execute_result"
    }
   ],
   "source": [
    "import boto3\n",
    "import pandas as pd; pd.set_option('display.max_columns', 100)\n",
    "import numpy as np\n",
    "import matplotlib.pyplot as plt\n",
    "import seaborn as sns\n",
    "\n",
    "from sklearn.linear_model import LogisticRegression\n",
    "from sklearn.preprocessing import MinMaxScaler\n",
    "from sklearn.model_selection import train_test_split\n",
    "from sklearn.tree import DecisionTreeClassifier, plot_tree\n",
    "from sklearn.ensemble import RandomForestClassifier, AdaBoostClassifier\n",
    "from sklearn.metrics import recall_score, classification_report\n",
    "from sklearn.impute import SimpleImputer, KNNImputer\n",
    "from scipy.stats import boxcox\n",
    "from sklearn.feature_selection import RFE\n",
    "\n",
    "s3 = boto3.resource('s3')\n",
    "bucket_name = 'grant-gonnerman-data-445'\n",
    "bucket = s3.Bucket(bucket_name)\n",
    "\n",
    "file_key = 'train.csv'\n",
    "\n",
    "bucket_object = bucket.Object(file_key)\n",
    "file_object = bucket_object.get()\n",
    "file_content_stream = file_object.get('Body')\n",
    "\n",
    "file_key2 = 'test.csv'\n",
    "\n",
    "bucket_object2 = bucket.Object(file_key2)\n",
    "file_object2 = bucket_object2.get()\n",
    "file_content_stream2 = file_object2.get('Body')\n",
    "\n",
    "# reading data file\n",
    "train = pd.read_csv(file_content_stream, delimiter = '|')\n",
    "test = pd.read_csv(file_content_stream2, delimiter = '|')\n",
    "train.head()"
   ]
  },
  {
   "cell_type": "code",
   "execution_count": 2,
   "id": "3de34a95-36cf-4b15-b6fe-21f36bdec548",
   "metadata": {
    "tags": []
   },
   "outputs": [],
   "source": [
    "# box cox transformation\n",
    "transformed_lineItemVoidsPerPosition = boxcox(train['totalScanTimeInSeconds'])\n",
    "train['totalScanTimeInSeconds'] = transformed_lineItemVoidsPerPosition[0]\n",
    "\n",
    "transformed_lineItemVoidsPerPosition = boxcox(test['totalScanTimeInSeconds'])\n",
    "test['totalScanTimeInSeconds'] = transformed_lineItemVoidsPerPosition[0]\n",
    "\n",
    "# engineering interactions\n",
    "train['interaction_1'] = train['totalScanTimeInSeconds'] * train['scannedLineItemsPerSecond']\n",
    "train['interaction_2'] = train['totalScanTimeInSeconds'] * train['valuePerSecond']\n",
    "train['interaction_3'] = train['grandTotal'] * train['valuePerSecond']\n",
    "train['interaction_4'] = train['lineItemVoids'] * train['lineItemVoidsPerPosition']\n",
    "train['interaction_5'] = train['scannedLineItemsPerSecond'] * train['valuePerSecond']\n",
    "train['interaction_6'] = train['scannedLineItemsPerSecond'] * train['lineItemVoidsPerPosition']\n",
    "\n",
    "test['interaction_1'] = test['totalScanTimeInSeconds'] * test['scannedLineItemsPerSecond']\n",
    "test['interaction_2'] = test['totalScanTimeInSeconds'] * test['valuePerSecond']\n",
    "test['interaction_3'] = test['grandTotal'] * test['valuePerSecond']\n",
    "test['interaction_4'] = test['lineItemVoids'] * test['lineItemVoidsPerPosition']\n",
    "test['interaction_5'] = test['scannedLineItemsPerSecond'] * test['valuePerSecond']\n",
    "test['interaction_6'] = test['scannedLineItemsPerSecond'] * test['lineItemVoidsPerPosition']\n",
    "\n",
    "# engineering by strong heredity\n",
    "train['heredity_1'] = train['trustLevel'] * train['interaction_1']\n",
    "train['heredity_2'] = train['trustLevel'] * train['scannedLineItemsPerSecond']\n",
    "train['heredity_3'] = train['interaction_1'] * train['scannedLineItemsPerSecond']\n",
    "\n",
    "test['heredity_1'] = test['trustLevel'] * test['interaction_1']\n",
    "test['heredity_2'] = test['trustLevel'] * test['scannedLineItemsPerSecond']\n",
    "test['heredity_3'] = test['interaction_1'] * test['scannedLineItemsPerSecond']\n",
    "\n",
    "# engineering by decision tree\n",
    "train['DT_1'] = np.where((train['trustLevel'] <= 1.5) & (train['heredity_1'] <= 4.412) & (train['totalScanTimeInSeconds'] <= 281.406), 1, 0)\n",
    "test['DT_1'] = np.where((test['trustLevel'] <= 1.5) & (test['heredity_1'] <= 4.412) & (test['totalScanTimeInSeconds'] <= 281.406), 1, 0)"
   ]
  },
  {
   "cell_type": "code",
   "execution_count": null,
   "id": "2587989f-97e2-45fb-bb23-11a2bf0399b1",
   "metadata": {
    "tags": []
   },
   "outputs": [],
   "source": [
    "# defining input and target variables\n",
    "x = train.drop(columns = 'fraud', axis = 1)\n",
    "y = train['fraud']\n",
    "\n",
    "# lists to store supports \n",
    "logit_support, rf_support, ada_support = list(), list(), list()\n",
    "\n",
    "for i in range(0,100):\n",
    "    print(i)\n",
    "    # splitting the data\n",
    "    x_train, x_test, y_train, y_test = train_test_split(x, y, test_size = 0.2, stratify = y)\n",
    "    \n",
    "    ## Defining scaler for logistic regression\n",
    "    scaler = MinMaxScaler()\n",
    "    ## Scaling the data\n",
    "    x_train_logit = pd.DataFrame(scaler.fit_transform(x_train), columns = x.columns)\n",
    "    x_test_logit = pd.DataFrame(scaler.fit_transform(x_test), columns = x.columns)\n",
    "    \n",
    "    ## Running RFE with Random forest model\n",
    "    logit_rfe = RFE(estimator = LogisticRegression(), n_features_to_select = 5).fit(x_train_logit, y_train)\n",
    "    logit_support.append(logit_rfe.support_)\n",
    "    \n",
    "    ## Running RFE with Random forest model\n",
    "    rf_rfe = RFE(estimator = RandomForestClassifier(n_estimators = 500, max_depth = 3), n_features_to_select = 5).fit(x_train, y_train)\n",
    "    rf_support.append(rf_rfe.support_)\n",
    "    \n",
    "    ## Running RFE with Random forest model\n",
    "    ada_rfe = RFE(estimator = AdaBoostClassifier(estimator = DecisionTreeClassifier(max_depth = 3), \n",
    "                                                n_estimators = 500, learning_rate = .01), n_features_to_select = 5).fit(x_train, y_train)\n",
    "    ada_support.append(ada_rfe.support_)\n",
    "    \n",
    "logit_results = pd.DataFrame(logit_support)\n",
    "logit_results.columns = x_train.columns\n",
    "\n",
    "rf_results = pd.DataFrame(rf_support)\n",
    "rf_results.columns = x_train.columns\n",
    "\n",
    "ada_results = pd.DataFrame(ada_support)\n",
    "ada_results.columns = x_train.columns\n"
   ]
  },
  {
   "cell_type": "code",
   "execution_count": 5,
   "id": "78d2fef3-d6d6-4075-ac6b-6ce8451bd0d5",
   "metadata": {
    "tags": []
   },
   "outputs": [
    {
     "data": {
      "text/plain": [
       "trustLevel                   100.0\n",
       "totalScanTimeInSeconds       100.0\n",
       "grandTotal                     0.0\n",
       "lineItemVoids                  1.0\n",
       "scansWithoutRegistration      61.0\n",
       "quantityModifications          0.0\n",
       "scannedLineItemsPerSecond      0.0\n",
       "valuePerSecond                 0.0\n",
       "lineItemVoidsPerPosition      38.0\n",
       "interaction_1                100.0\n",
       "interaction_2                  0.0\n",
       "interaction_3                  0.0\n",
       "interaction_4                  0.0\n",
       "interaction_5                  0.0\n",
       "interaction_6                  0.0\n",
       "heredity_1                     0.0\n",
       "heredity_2                     0.0\n",
       "heredity_3                     0.0\n",
       "DT_1                         100.0\n",
       "dtype: float64"
      ]
     },
     "execution_count": 5,
     "metadata": {},
     "output_type": "execute_result"
    }
   ],
   "source": [
    "# logistic features by percentage of importance\n",
    "100*logit_results.apply(np.sum, axis = 0) / logit_results.shape[0]"
   ]
  },
  {
   "cell_type": "code",
   "execution_count": 6,
   "id": "64609a6b-677a-45de-903e-ad84ed037563",
   "metadata": {
    "tags": []
   },
   "outputs": [
    {
     "data": {
      "text/plain": [
       "trustLevel                   100.0\n",
       "totalScanTimeInSeconds         2.0\n",
       "grandTotal                     0.0\n",
       "lineItemVoids                  0.0\n",
       "scansWithoutRegistration       0.0\n",
       "quantityModifications          0.0\n",
       "scannedLineItemsPerSecond      0.0\n",
       "valuePerSecond                 0.0\n",
       "lineItemVoidsPerPosition       0.0\n",
       "interaction_1                100.0\n",
       "interaction_2                  0.0\n",
       "interaction_3                  0.0\n",
       "interaction_4                  0.0\n",
       "interaction_5                  0.0\n",
       "interaction_6                  0.0\n",
       "heredity_1                   100.0\n",
       "heredity_2                   100.0\n",
       "heredity_3                    98.0\n",
       "DT_1                           0.0\n",
       "dtype: float64"
      ]
     },
     "execution_count": 6,
     "metadata": {},
     "output_type": "execute_result"
    }
   ],
   "source": [
    "# rf features by percentage of importance\n",
    "100*rf_results.apply(np.sum, axis = 0) / rf_results.shape[0]"
   ]
  },
  {
   "cell_type": "code",
   "execution_count": 7,
   "id": "07a161ee-0024-4b70-80cb-0435906de211",
   "metadata": {
    "tags": []
   },
   "outputs": [
    {
     "data": {
      "text/plain": [
       "trustLevel                     9.0\n",
       "totalScanTimeInSeconds        92.0\n",
       "grandTotal                     7.0\n",
       "lineItemVoids                 39.0\n",
       "scansWithoutRegistration      66.0\n",
       "quantityModifications          0.0\n",
       "scannedLineItemsPerSecond      0.0\n",
       "valuePerSecond                 4.0\n",
       "lineItemVoidsPerPosition       6.0\n",
       "interaction_1                100.0\n",
       "interaction_2                  1.0\n",
       "interaction_3                  0.0\n",
       "interaction_4                  9.0\n",
       "interaction_5                 14.0\n",
       "interaction_6                 16.0\n",
       "heredity_1                    46.0\n",
       "heredity_2                    91.0\n",
       "heredity_3                     0.0\n",
       "DT_1                           0.0\n",
       "dtype: float64"
      ]
     },
     "execution_count": 7,
     "metadata": {},
     "output_type": "execute_result"
    }
   ],
   "source": [
    "# ada features by percentage of importance\n",
    "100*ada_results.apply(np.sum, axis = 0) / ada_results.shape[0]"
   ]
  },
  {
   "cell_type": "code",
   "execution_count": 27,
   "id": "c7a13a1b-3a41-4e8f-bc8a-f9681ca65063",
   "metadata": {
    "tags": []
   },
   "outputs": [
    {
     "data": {
      "text/plain": [
       "trustLevel                    69.666667\n",
       "totalScanTimeInSeconds        64.666667\n",
       "grandTotal                     2.333333\n",
       "lineItemVoids                 13.333333\n",
       "scansWithoutRegistration      42.333333\n",
       "quantityModifications          0.000000\n",
       "scannedLineItemsPerSecond      0.000000\n",
       "valuePerSecond                 1.333333\n",
       "lineItemVoidsPerPosition      14.666667\n",
       "interaction_1                100.000000\n",
       "interaction_2                  0.333333\n",
       "interaction_3                  0.000000\n",
       "interaction_4                  3.000000\n",
       "interaction_5                  4.666667\n",
       "interaction_6                  5.333333\n",
       "heredity_1                    48.666667\n",
       "heredity_2                    63.666667\n",
       "heredity_3                    32.666667\n",
       "DT_1                          33.333333\n",
       "dtype: float64"
      ]
     },
     "execution_count": 27,
     "metadata": {},
     "output_type": "execute_result"
    }
   ],
   "source": [
    "# features by percentage of importance accross all 3 models\n",
    "(100*logit_results.apply(np.sum, axis = 0)/300) + (100*rf_results.apply(np.sum, axis = 0)/ 300) + (100*ada_results.apply(np.sum, axis = 0)/ 300) "
   ]
  },
  {
   "cell_type": "code",
   "execution_count": null,
   "id": "c86cef72-71ef-4857-a6ed-36dd69783f4f",
   "metadata": {},
   "outputs": [],
   "source": [
    "# from the results above we can see the top 5 features accoss all 3 models are... trustLevel, totalScanTimeInSeconds, interation_1, heredity_1, and heridity_2"
   ]
  }
 ],
 "metadata": {
  "kernelspec": {
   "display_name": "conda_python3",
   "language": "python",
   "name": "conda_python3"
  },
  "language_info": {
   "codemirror_mode": {
    "name": "ipython",
    "version": 3
   },
   "file_extension": ".py",
   "mimetype": "text/x-python",
   "name": "python",
   "nbconvert_exporter": "python",
   "pygments_lexer": "ipython3",
   "version": "3.10.8"
  }
 },
 "nbformat": 4,
 "nbformat_minor": 5
}
